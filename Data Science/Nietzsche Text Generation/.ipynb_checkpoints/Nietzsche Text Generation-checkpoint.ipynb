{
 "cells": [
  {
   "cell_type": "markdown",
   "id": "d4f8dd21",
   "metadata": {},
   "source": []
  },
  {
   "cell_type": "code",
   "execution_count": 1,
   "id": "b87c431f",
   "metadata": {},
   "outputs": [],
   "source": [
    "# Load packages\n",
    "import tensorflow as tf\n",
    "import numpy as np\n",
    "import random\n",
    "import sys\n",
    "import os"
   ]
  },
  {
   "cell_type": "code",
   "execution_count": 2,
   "id": "fd45ac36",
   "metadata": {},
   "outputs": [],
   "source": [
    "def sample(preds, temperature=1.0):\n",
    "    preds = np.asarray(preds).astype('float64')\n",
    "    preds = np.log(preds) / temperature\n",
    "    exp_preds = np.exp(preds)\n",
    "    preds = exp_preds / np.sum(exp_preds)\n",
    "    probas = np.random.multinomial(1, preds, 1)\n",
    "    return np.argmax(probas)"
   ]
  },
  {
   "cell_type": "code",
   "execution_count": 3,
   "id": "706729ff",
   "metadata": {},
   "outputs": [
    {
     "name": "stdout",
     "output_type": "stream",
     "text": [
      "Corpus length: 600893\n"
     ]
    }
   ],
   "source": [
    "# Download text to create corpus\n",
    "path = tf.keras.utils.get_file(\n",
    "    'nietzsche.txt',\n",
    "    origin='https://s3.amazonaws.com/text-datasets/nietzsche.txt')\n",
    "text = open(path).read().lower()\n",
    "print('Corpus length:', len(text))"
   ]
  },
  {
   "cell_type": "code",
   "execution_count": 4,
   "id": "be77cbab",
   "metadata": {},
   "outputs": [
    {
     "name": "stderr",
     "output_type": "stream",
     "text": [
      "/var/folders/bf/_ndfh51j1sjcc0xhs4h7vv7m0000gn/T/ipykernel_9395/1642539868.py:15: DeprecationWarning: `np.bool` is a deprecated alias for the builtin `bool`. To silence this warning, use `bool` by itself. Doing this will not modify any behavior and is safe. If you specifically wanted the numpy scalar type, use `np.bool_` here.\n",
      "Deprecated in NumPy 1.20; for more details and guidance: https://numpy.org/devdocs/release/1.20.0-notes.html#deprecations\n",
      "  x = np.zeros((len(sentences), maxlen, len(chars)), dtype=np.bool)\n",
      "/var/folders/bf/_ndfh51j1sjcc0xhs4h7vv7m0000gn/T/ipykernel_9395/1642539868.py:16: DeprecationWarning: `np.bool` is a deprecated alias for the builtin `bool`. To silence this warning, use `bool` by itself. Doing this will not modify any behavior and is safe. If you specifically wanted the numpy scalar type, use `np.bool_` here.\n",
      "Deprecated in NumPy 1.20; for more details and guidance: https://numpy.org/devdocs/release/1.20.0-notes.html#deprecations\n",
      "  y = np.zeros((len(sentences), len(chars)), dtype=np.bool)\n"
     ]
    }
   ],
   "source": [
    "# Extract partially overlapping sequences of length maxlen\n",
    "maxlen = 60\n",
    "step = 3\n",
    "sentences = []\n",
    "next_chars = []\n",
    "\n",
    "for i in range(0, len(text) - maxlen, step):\n",
    "    sentences.append(text[i: i + maxlen])\n",
    "    next_chars.append(text[i + maxlen])\n",
    "\n",
    "chars = sorted(list(set(text)))\n",
    "char_indices = dict((char, chars.index(char)) for char in chars)\n",
    "\n",
    "# load 3D numpy array of shape (sequences, maxlen, unique_characters)\n",
    "x = np.zeros((len(sentences), maxlen, len(chars)), dtype=np.bool)\n",
    "y = np.zeros((len(sentences), len(chars)), dtype=np.bool)\n",
    "for i, sentence in enumerate(sentences):\n",
    "    for t, char in enumerate(sentence):\n",
    "        # one-hot-encoded characters\n",
    "        x[i, t, char_indices[char]] = 1\n",
    "    # one-hot-encoded characters that come after each extracted sequence\n",
    "    y[i, char_indices[next_chars[i]]] = 1"
   ]
  },
  {
   "cell_type": "code",
   "execution_count": 5,
   "id": "cd1c3cd0",
   "metadata": {},
   "outputs": [
    {
     "name": "stdout",
     "output_type": "stream",
     "text": [
      "Metal device set to: Apple M2\n"
     ]
    },
    {
     "name": "stderr",
     "output_type": "stream",
     "text": [
      "2022-08-13 17:31:32.161726: I tensorflow/core/common_runtime/pluggable_device/pluggable_device_factory.cc:305] Could not identify NUMA node of platform GPU ID 0, defaulting to 0. Your kernel may not have been built with NUMA support.\n",
      "2022-08-13 17:31:32.161925: I tensorflow/core/common_runtime/pluggable_device/pluggable_device_factory.cc:271] Created TensorFlow device (/job:localhost/replica:0/task:0/device:GPU:0 with 0 MB memory) -> physical PluggableDevice (device: 0, name: METAL, pci bus id: <undefined>)\n"
     ]
    }
   ],
   "source": [
    "model = tf.keras.models.Sequential()\n",
    "model.add(tf.keras.layers.LSTM(128, input_shape=(maxlen, len(chars))))\n",
    "model.add(tf.keras.layers.Dense(len(chars), activation='softmax'))"
   ]
  },
  {
   "cell_type": "code",
   "execution_count": 6,
   "id": "af7b5a16",
   "metadata": {},
   "outputs": [
    {
     "name": "stderr",
     "output_type": "stream",
     "text": [
      "/Users/carlospalomo/miniforge3/lib/python3.9/site-packages/keras/optimizers/optimizer_v2/rmsprop.py:135: UserWarning: The `lr` argument is deprecated, use `learning_rate` instead.\n",
      "  super(RMSprop, self).__init__(name, **kwargs)\n"
     ]
    }
   ],
   "source": [
    "optimizer = tf.keras.optimizers.RMSprop(lr=0.01)\n",
    "model.compile(loss='categorical_crossentropy', optimizer=optimizer)"
   ]
  },
  {
   "cell_type": "code",
   "execution_count": 10,
   "id": "8d34a638",
   "metadata": {
    "scrolled": false
   },
   "outputs": [
    {
     "name": "stdout",
     "output_type": "stream",
     "text": [
      "1565/1565 [==============================] - 29s 18ms/step - loss: 1.3397\n",
      "gical sciences and to the history of the evolution of ideas gical sciences and to the history of the evolution of ideas gical sciences and to the history of the evolution of ideas gical sciences and to the history of the evolution of ideas been re(praciasm\n",
      "understand the tove amplay authoure to me orwandred to\n",
      "it believe of insin a man la-vurt valuation to a matter mse nefect to loiramed by oblights mean arr\"man in such idditioncomon of thec\n",
      "happin\n",
      "tame but so ratterty, and a; it call itself, chad with is all french fasting-asped ocume of many carslculy mirccietts eachland wantord? nof with falsified and religion? however,\n",
      "1565/1565 [==============================] - 29s 18ms/step - loss: 1.3346\n",
      " they again made things square--they\n",
      "invented printing.) but they again made things square--they\n",
      "invented printing.) but they again made things square--they\n",
      "invented printing.) but they again made things square--they\n",
      "invented printing.) buteble: late, our blinerning teemated with thear appeavatious =thoushint galfants what ame can goged. its trwise, the call\n",
      "renoundet\" combiter, as a communing and sense, and in\n",
      "the\n",
      "constsilty regard to prident period the c8jops things hate which\n",
      "problem.-there and\n",
      "end mind high an adorater\n",
      "and shot off the laterable taste\n",
      "wyron. the obligated to danger entrvary of the holdated of the ort of duth\n",
      "1565/1565 [==============================] - 29s 18ms/step - loss: 1.3296\n",
      "e, and finally of an 'ego'\n",
      "as cause of thought?\" he who vente, and finally of an 'ego'\n",
      "as cause of thought?\" he who vente, and finally of an 'ego'\n",
      "as cause of thought?\" he who vente, and finally of an 'ego'\n",
      "as cause of thought?\" he who venture to\n",
      "own churing the le at\n",
      "name for mulivally\n",
      "truther, one lavely, except, they characi, in it\n",
      "is.\n",
      "\n",
      "              the men to habutit reveally sunses--and soaruring of heartary, a charm of not perimendance and\n",
      "d corretion could\n",
      "le\" stepts tele-be arest long, worktolr; for, of the to ougance be-ofe misunsers nores to stre mosel, in the greates--his norpty ye\n",
      "1565/1565 [==============================] - 28s 18ms/step - loss: 1.3245\n",
      "he fear of the \"eternal misunderstanding\": that is the good\n",
      "he fear of the \"eternal misunderstanding\": that is the good\n",
      "he fear of the \"eternal misunderstanding\": that is the good\n",
      "he fear of the \"eternal misunderstanding\": that is the good\n",
      "too, may abcongle. and diver sylvelance; he thinks can of\n",
      "signyer and beeone for every one ca sufficiences theor\n",
      "met frieg. that is love to redival, precisewhervinessorious, or struggle, th"
     ]
    },
    {
     "name": "stderr",
     "output_type": "stream",
     "text": [
      "/var/folders/bf/_ndfh51j1sjcc0xhs4h7vv7m0000gn/T/ipykernel_9395/2163503365.py:3: RuntimeWarning: divide by zero encountered in log\n",
      "  preds = np.log(preds) / temperature\n"
     ]
    },
    {
     "name": "stdout",
     "output_type": "stream",
     "text": [
      "e mout unsuscerlarity of as works of sange, perhaps it, you\n",
      "ark, yesteld gide maintamenties\n",
      "it reality, matter assumed\n",
      "for one lay un,\n",
      "1565/1565 [==============================] - 28s 18ms/step - loss: 1.3213\n",
      "d\n",
      "insists on taking things profoundly, variously, and thoroud\n",
      "insists on taking things profoundly, variously, and thoroud\n",
      "insists on taking things profoundly, variously, and thoroud\n",
      "insists on taking things profoundly, variously, and thoroughom us teakes,\n",
      "every time--must fot-, as flight.\n",
      "\n",
      "e] enarbof.=--it was concerning\n",
      "from puts bone\n",
      "satismace in certain orivinated, or who is\n",
      "a crildaity a hefuds to the appall may, from the sphecturabquins every nightel: iuldost.\n",
      "\n",
      "\n",
      "e=vouved one's will even\n",
      "to\n",
      "step are him in sure evident better,\n",
      "insopar our ahidule determing. the gramitist eptantit to philosophy pain uneld\n",
      "suitour inas\n",
      "1565/1565 [==============================] - 28s 18ms/step - loss: 1.3160\n",
      "lves a\n",
      "warm-hearted patriotism, a plunge and relapse into ollves a\n",
      "warm-hearted patriotism, a plunge and relapse into ollves a\n",
      "warm-hearted patriotism, a plunge and relapse into ollves a\n",
      "warm-hearted patriotism, a plunge and relapse into old sisting raties and rightly: !  -al).\n",
      "recaupated admintter.\n",
      "\n",
      "2. the larvicled, blus\n",
      "desicaten; and too comeptys at his rality in dovery! the\n",
      "abuntated\n",
      "has\n",
      "mer also justif--or great of the \"phressiaraday\" in themselves: there very desire what prematen, to our dlession as last case,\n",
      "it fise, the\n",
      "r?y. and permosiful\n",
      "place\n",
      "mat mane was\n",
      "rule man by.\n",
      "\n",
      "s6=how possessionch\n",
      "how undcents\n",
      "1565/1565 [==============================] - 1084s 693ms/step - loss: 1.3130\n",
      "ome to a halt before the boundless and infinite,--when a\n",
      "supome to a halt before the boundless and infinite,--when a\n",
      "supome to a halt before the boundless and infinite,--when a\n",
      "supome to a halt before the boundless and infinite,--when a\n",
      "superit. mode of their speins? it god\n",
      "of exuls kundere knew the elevatity, the creatured he is convlears! one is  ).\n",
      "\n",
      "22417.\n",
      "\n",
      "1itity and\n",
      "wanto\n",
      "psychological syscely and\n",
      "human nacher and moral dodfulnis count, in all commendancle,\n",
      "mele to the supposed, wroither-icies, history? should it\n",
      "does not ykeed, the emister of misundersokeouting and moven to lame itst to\n",
      "1565/1565 [==============================] - 29s 18ms/step - loss: 1.3087\n",
      "n, the born artists who find the enjoyment of life only in tn, the born artists who find the enjoyment of life only in tn, the born artists who find the enjoyment of life only in tn, the born artists who find the enjoyment of life only in the grebrom for and undary\n",
      "and means of y, una work wher-e is not bety\n",
      "awayss, numbles polymine, war have music, and within them that the basis of\n",
      "trumpls plued hasitian. wjeatwher banly ascent and much of plein? if this\n",
      "by a supger duth\n",
      "doinds, with yout (thei, ix a\n",
      "misundu's oppression.\n",
      "\n",
      "\n",
      "the, heila-calmed ventoor.=--that suffer? but wo strong-! ske at we\n",
      "do not so that\n",
      "1565/1565 [==============================] - 29s 18ms/step - loss: 1.3052\n",
      "for happiness and the refinements of the feeling of liberty\n",
      "for happiness and the refinements of the feeling of liberty\n",
      "for happiness and the refinements of the feeling of liberty\n",
      "for happiness and the refinements of the feeling of liberty\n",
      "of secie, how every take quited. should the valded, we would cidmen is year that caemely mebility.\n",
      "\n",
      "23e] sentime drything omeaning as who, and eviven, emoted: say: ye dive\n",
      "booc-men opinion of how thjuct of pmours he seek that is ebslave pu\n",
      "was witto them, us prest very emote: that            well as means\n",
      "worlds all to with us the unatachen\n",
      "busyde usy mat the hearthiss orden an ildje\n",
      "1565/1565 [==============================] - 29s 18ms/step - loss: 1.3013\n",
      "should be especially seldom\n",
      "attained by a german, or almost should be especially seldom\n",
      "attained by a german, or almost should be especially seldom\n",
      "attained by a german, or almost should be especially seldom\n",
      "attained by a german, or almost hence this mexted of religious; moral. it was stateemously. the\n",
      "remostless, all, disposition. eye of the surmisting-knowing, thpates of the\n",
      "untrickanions of a as mastdiafur, attraory, each\n",
      "perste: the religiouser: do pi' well and like us toan putligy (illk nor do never\n",
      "dol. to be it\n",
      "free pucience with man, in all it, to him thouse, and in\n",
      "the inifeding things? folligh gatte open ibard.  blo, un\n",
      "1565/1565 [==============================] - 29s 19ms/step - loss: 1.2940\n",
      "antage of this pause, he could foretell the future of every\n",
      "antage of this pause, he could foretell the future of every\n",
      "antage of this pause, he could foretell the future of every\n",
      "antage of this pause, he could foretell the future of every\n",
      "dwarfige daces itself assumest. the heart mentifakention: is unututfo the adfert the\n",
      "exceptions aood the greature predumated and \"hauds.\"\"\n",
      "concution, to himsel lives it\n",
      "romany, is desire, no hamity uponce fineth) (and soul idea of\n",
      "man growh; what hoste?--the values rumness, as themselves predicects,\n",
      "he is foundly looking acgotie of life of fancy to beass\n",
      "1565/1565 [==============================] - 29s 19ms/step - loss: 1.2903\n",
      "esent of taking the side of criminals; a sort of\n",
      "socialisticesent of taking the side of criminals; a sort of\n",
      "socialisticesent of taking the side of criminals; a sort of\n",
      "socialisticesent of taking the side of criminals; a sort of\n",
      "socialistic oluble fact to their good, and will secerming the hilly\n",
      "su\n",
      "condewis badl, the chanishes srouws, ayd and deply ableanl to soul, which ethichs, it is price,\n",
      "estimat: have yeart the ney something towardsh spuiliorled my risinum, are\n",
      "dangerous malable of how times apparently, which thea--egoidaining\n",
      "laingly tendded -that betraush. he sought is feetine set it wishes among with,\n",
      "1565/1565 [==============================] - 29s 19ms/step - loss: 1.2845\n",
      "n conceals\n",
      "his silence by expressly assenting to some plausin conceals\n",
      "his silence by expressly assenting to some plausin conceals\n",
      "his silence by expressly assenting to some plausin conceals\n",
      "his silence by expressly assenting to some plausish curioss.=, prepides, oodqual deforms circlac, ungrars: it well of\n",
      "ekersfounde-law an unpacimiinal error we conclusitunuted, foic poining\n",
      "political fropils\n",
      "for the first\n",
      "someness--the conscichoritord, commlenm,\n",
      "enjoyments. fear of best noogh\n",
      "1565/1565 [==============================] - 29s 19ms/step - loss: 1.2795\n",
      "n morals commences.\n",
      "\n",
      "196. it is to be inferred that there arn morals commences.\n",
      "\n",
      "196. it is to be inferred that there arn morals commences.\n",
      "\n",
      "196. it is to be inferred that there arn morals commences.\n",
      "\n",
      "196. it is to be inferred that there are saint place, one call\n",
      "outweas and there will likew ought lec barlw.\n",
      "\n",
      "110. a dakent the contair fortunate be forth is caste. the\n",
      "expressivessur\".\",,\n",
      "this class it not fichtednen, and this leftite\"; he candines--the fact, forced,\n",
      "whom is there is no refuge-brougfine in substimary, vearthe\n",
      "\"firicity her\n",
      "conting be catesful, he can, even some hysily and bimses of human\n",
      "whole ones, we is musce hord f"
     ]
    }
   ],
   "source": [
    "results_dir = f'{os.path.abspath(os.getcwd())}/results/results.txt'\n",
    "f = open(results_dir,'w')\n",
    "for epoch in range(1, 15):\n",
    "    print('epoch', epoch,file=f)\n",
    "    model.fit(x, y, batch_size=128, epochs=1)\n",
    "    start_index = random.randint(0, len(text) - maxlen - 1) \n",
    "    generated_text = text[start_index: start_index + maxlen]\n",
    "    print('--- Generating with seed: \"' + generated_text + '\"',file=f)\n",
    "    \n",
    "    for temperature in [0.2, 0.5, 1.0, 1.2]:\n",
    "        print('------ temperature:', temperature,file=f)\n",
    "        print(sys.stdout.write(generated_text), file=f)\n",
    "    \n",
    "    for i in range(400):\n",
    "        sampled = np.zeros((1, maxlen, len(chars)))\n",
    "        for t, char in enumerate(generated_text):\n",
    "            sampled[0, t, char_indices[char]] = 1. \n",
    "        preds = model.predict(sampled, verbose=0)[0]\n",
    "        next_index = sample(preds, temperature)\n",
    "        next_char = chars[next_index]\n",
    "        generated_text += next_char\n",
    "        generated_text = generated_text[1:]\n",
    "        print(sys.stdout.write(next_char), file=f)\n",
    "f.close()\n"
   ]
  },
  {
   "cell_type": "markdown",
   "id": "9ff5b1eb",
   "metadata": {},
   "source": [
    "## Conclusion\n",
    "\n",
    "From the results we can see that as the tempture rices the text begins to make less sense. In fact the amount of actual words and structure decreases. This is to be expected as the higher the temperature the greater the entropy and randomness of selecting the next character."
   ]
  }
 ],
 "metadata": {
  "kernelspec": {
   "display_name": "Python 3 (ipykernel)",
   "language": "python",
   "name": "python3"
  },
  "language_info": {
   "codemirror_mode": {
    "name": "ipython",
    "version": 3
   },
   "file_extension": ".py",
   "mimetype": "text/x-python",
   "name": "python",
   "nbconvert_exporter": "python",
   "pygments_lexer": "ipython3",
   "version": "3.9.13"
  }
 },
 "nbformat": 4,
 "nbformat_minor": 5
}
